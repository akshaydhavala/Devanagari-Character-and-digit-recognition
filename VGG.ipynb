{
 "cells": [
  {
   "cell_type": "code",
   "execution_count": 1,
   "metadata": {},
   "outputs": [
    {
     "name": "stderr",
     "output_type": "stream",
     "text": [
      "d:\\anaconda\\envs\\tensorflow2\\lib\\site-packages\\h5py\\__init__.py:36: FutureWarning: Conversion of the second argument of issubdtype from `float` to `np.floating` is deprecated. In future, it will be treated as `np.float64 == np.dtype(float).type`.\n",
      "  from ._conv import register_converters as _register_converters\n",
      "Using TensorFlow backend.\n"
     ]
    }
   ],
   "source": [
    "from keras.models import Sequential\n",
    "from keras.layers import *\n",
    "from keras.optimizers import SGD\n",
    "from keras.preprocessing.image import ImageDataGenerator\n",
    "import matplotlib.pyplot as plt\n",
    "%matplotlib inline"
   ]
  },
  {
   "cell_type": "code",
   "execution_count": 2,
   "metadata": {},
   "outputs": [],
   "source": [
    "train_datagen = ImageDataGenerator()\n",
    "\n",
    "test_datagen = ImageDataGenerator()\n",
    " \n",
    "val_datagen=ImageDataGenerator()\n"
   ]
  },
  {
   "cell_type": "code",
   "execution_count": 3,
   "metadata": {},
   "outputs": [
    {
     "name": "stdout",
     "output_type": "stream",
     "text": [
      "Found 59800 images belonging to 46 classes.\n"
     ]
    }
   ],
   "source": [
    "train_generator = train_datagen.flow_from_directory(\n",
    "        'C:/Users/aksha/Desktop/Artificial/train',\n",
    "        target_size=(32,32),\n",
    "        batch_size=128,\n",
    "        class_mode='categorical')"
   ]
  },
  {
   "cell_type": "code",
   "execution_count": 4,
   "metadata": {},
   "outputs": [
    {
     "name": "stdout",
     "output_type": "stream",
     "text": [
      "Found 18400 images belonging to 46 classes.\n"
     ]
    }
   ],
   "source": [
    "test_generator = test_datagen.flow_from_directory(\n",
    "        'C:/Users/aksha/Desktop/Artificial/test',\n",
    "        target_size=(32,32),\n",
    "        batch_size=128,\n",
    "        class_mode='categorical')"
   ]
  },
  {
   "cell_type": "code",
   "execution_count": 5,
   "metadata": {},
   "outputs": [
    {
     "name": "stdout",
     "output_type": "stream",
     "text": [
      "Found 13800 images belonging to 46 classes.\n"
     ]
    }
   ],
   "source": [
    "val_generator = val_datagen.flow_from_directory(\n",
    "        'C:/Users/aksha/Desktop/Artificial/val',\n",
    "        target_size=(32,32),\n",
    "        batch_size=64,\n",
    "        class_mode='categorical')"
   ]
  },
  {
   "cell_type": "code",
   "execution_count": 6,
   "metadata": {},
   "outputs": [
    {
     "name": "stdout",
     "output_type": "stream",
     "text": [
      "_________________________________________________________________\n",
      "Layer (type)                 Output Shape              Param #   \n",
      "=================================================================\n",
      "conv2d_1 (Conv2D)            (None, 32, 32, 64)        1792      \n",
      "_________________________________________________________________\n",
      "conv2d_2 (Conv2D)            (None, 32, 32, 64)        36928     \n",
      "_________________________________________________________________\n",
      "max_pooling2d_1 (MaxPooling2 (None, 16, 16, 64)        0         \n",
      "_________________________________________________________________\n",
      "batch_normalization_1 (Batch (None, 16, 16, 64)        256       \n",
      "_________________________________________________________________\n",
      "conv2d_3 (Conv2D)            (None, 16, 16, 128)       73856     \n",
      "_________________________________________________________________\n",
      "conv2d_4 (Conv2D)            (None, 16, 16, 128)       147584    \n",
      "_________________________________________________________________\n",
      "max_pooling2d_2 (MaxPooling2 (None, 8, 8, 128)         0         \n",
      "_________________________________________________________________\n",
      "batch_normalization_2 (Batch (None, 8, 8, 128)         512       \n",
      "_________________________________________________________________\n",
      "conv2d_5 (Conv2D)            (None, 8, 8, 256)         295168    \n",
      "_________________________________________________________________\n",
      "conv2d_6 (Conv2D)            (None, 8, 8, 256)         590080    \n",
      "_________________________________________________________________\n",
      "max_pooling2d_3 (MaxPooling2 (None, 4, 4, 256)         0         \n",
      "_________________________________________________________________\n",
      "batch_normalization_3 (Batch (None, 4, 4, 256)         1024      \n",
      "_________________________________________________________________\n",
      "conv2d_7 (Conv2D)            (None, 4, 4, 512)         1180160   \n",
      "_________________________________________________________________\n",
      "conv2d_8 (Conv2D)            (None, 4, 4, 512)         2359808   \n",
      "_________________________________________________________________\n",
      "conv2d_9 (Conv2D)            (None, 4, 4, 512)         2359808   \n",
      "_________________________________________________________________\n",
      "flatten_1 (Flatten)          (None, 8192)              0         \n",
      "_________________________________________________________________\n",
      "dense_1 (Dense)              (None, 4096)              33558528  \n",
      "_________________________________________________________________\n",
      "dropout_1 (Dropout)          (None, 4096)              0         \n",
      "_________________________________________________________________\n",
      "dense_2 (Dense)              (None, 46)                188462    \n",
      "=================================================================\n",
      "Total params: 40,793,966\n",
      "Trainable params: 40,793,070\n",
      "Non-trainable params: 896\n",
      "_________________________________________________________________\n"
     ]
    }
   ],
   "source": [
    "model_1=Sequential()\n",
    "model_1.add(Conv2D(64,(3,3), strides=(1, 1), padding='same', input_shape=(32,32,3),activation='relu'))\n",
    "model_1.add(Conv2D(64,(3,3), strides=(1, 1), padding='same',activation='relu'))\n",
    "model_1.add(MaxPooling2D(pool_size=(2, 2)))\n",
    "model_1.add(BatchNormalization())\n",
    "\n",
    "model_1.add(Conv2D(128,(3,3), strides=(1, 1), padding='same',activation='relu'))\n",
    "model_1.add(Conv2D(128,(3,3), strides=(1, 1), padding='same',activation='relu'))\n",
    "model_1.add(MaxPooling2D(pool_size=(2, 2)))\n",
    "model_1.add(BatchNormalization())\n",
    "\n",
    "model_1.add(Conv2D(256,(3,3), strides=(1, 1), padding='same',activation='relu'))\n",
    "model_1.add(Conv2D(256,(3,3), strides=(1, 1), padding='same',activation='relu'))\n",
    "model_1.add(MaxPooling2D(pool_size=(2, 2)))\n",
    "model_1.add(BatchNormalization())\n",
    "\n",
    "model_1.add(Conv2D(512,(3,3), strides=(1, 1), padding='same',activation='relu'))\n",
    "model_1.add(Conv2D(512,(3,3), strides=(1, 1), padding='same',activation='relu'))\n",
    "model_1.add(Conv2D(512,(3,3), strides=(1, 1), padding='same',activation='relu'))\n",
    "model_1.add(Flatten())\n",
    "model_1.add(Dense(4096, activation='relu'))\n",
    "model_1.add(Dropout(0.2))\n",
    "model_1.add(Dense(46,activation='softmax'))\n",
    "model_1.summary()"
   ]
  },
  {
   "cell_type": "code",
   "execution_count": 7,
   "metadata": {},
   "outputs": [],
   "source": [
    "model_1.compile(loss='binary_crossentropy',\n",
    "              optimizer=SGD(lr=1e-3, momentum=0.9),\n",
    "              metrics=['accuracy'])"
   ]
  },
  {
   "cell_type": "code",
   "execution_count": 8,
   "metadata": {},
   "outputs": [
    {
     "name": "stdout",
     "output_type": "stream",
     "text": [
      "Epoch 1/50\n",
      "468/468 [==============================] - 96s 206ms/step - loss: 0.1045 - acc: 0.9783 - val_loss: 0.1035 - val_acc: 0.9783\n",
      "Epoch 2/50\n",
      "468/468 [==============================] - 62s 132ms/step - loss: 0.1024 - acc: 0.9783 - val_loss: 0.1016 - val_acc: 0.9783\n",
      "Epoch 3/50\n",
      "468/468 [==============================] - 62s 133ms/step - loss: 0.1001 - acc: 0.9783 - val_loss: 0.0991 - val_acc: 0.9783\n",
      "Epoch 4/50\n",
      "468/468 [==============================] - 62s 133ms/step - loss: 0.0968 - acc: 0.9783 - val_loss: 0.0953 - val_acc: 0.9783\n",
      "Epoch 5/50\n",
      "468/468 [==============================] - 62s 133ms/step - loss: 0.0918 - acc: 0.9783 - val_loss: 0.0894 - val_acc: 0.9783\n",
      "Epoch 6/50\n",
      "468/468 [==============================] - 62s 132ms/step - loss: 0.0843 - acc: 0.9784 - val_loss: 0.0807 - val_acc: 0.9785\n",
      "Epoch 7/50\n",
      "468/468 [==============================] - 62s 133ms/step - loss: 0.0744 - acc: 0.9792 - val_loss: 0.0702 - val_acc: 0.9798\n",
      "Epoch 8/50\n",
      "468/468 [==============================] - 62s 133ms/step - loss: 0.0634 - acc: 0.9804 - val_loss: 0.0599 - val_acc: 0.9811\n",
      "Epoch 9/50\n",
      "468/468 [==============================] - 62s 133ms/step - loss: 0.0533 - acc: 0.9824 - val_loss: 0.0510 - val_acc: 0.9832\n",
      "Epoch 10/50\n",
      "468/468 [==============================] - 62s 133ms/step - loss: 0.0448 - acc: 0.9848 - val_loss: 0.0438 - val_acc: 0.9852\n",
      "Epoch 11/50\n",
      "468/468 [==============================] - 62s 132ms/step - loss: 0.0381 - acc: 0.9871 - val_loss: 0.0381 - val_acc: 0.9870\n",
      "Epoch 12/50\n",
      "468/468 [==============================] - 62s 133ms/step - loss: 0.0328 - acc: 0.9889 - val_loss: 0.0337 - val_acc: 0.9885\n",
      "Epoch 13/50\n",
      "468/468 [==============================] - 62s 133ms/step - loss: 0.0285 - acc: 0.9905 - val_loss: 0.0298 - val_acc: 0.9900\n",
      "Epoch 14/50\n",
      "468/468 [==============================] - 62s 133ms/step - loss: 0.0251 - acc: 0.9917 - val_loss: 0.0271 - val_acc: 0.9909\n",
      "Epoch 15/50\n",
      "468/468 [==============================] - 62s 133ms/step - loss: 0.0223 - acc: 0.9927 - val_loss: 0.0249 - val_acc: 0.9917\n",
      "Epoch 16/50\n",
      "468/468 [==============================] - 62s 133ms/step - loss: 0.0199 - acc: 0.9935 - val_loss: 0.0226 - val_acc: 0.9927\n",
      "Epoch 17/50\n",
      "468/468 [==============================] - 62s 133ms/step - loss: 0.0180 - acc: 0.9942 - val_loss: 0.0215 - val_acc: 0.9930\n",
      "Epoch 18/50\n",
      "468/468 [==============================] - 62s 132ms/step - loss: 0.0164 - acc: 0.9948 - val_loss: 0.0197 - val_acc: 0.9937\n",
      "Epoch 19/50\n",
      "468/468 [==============================] - 62s 133ms/step - loss: 0.0150 - acc: 0.9953 - val_loss: 0.0183 - val_acc: 0.9942\n",
      "Epoch 20/50\n",
      "468/468 [==============================] - 62s 133ms/step - loss: 0.0139 - acc: 0.9957 - val_loss: 0.0173 - val_acc: 0.9945\n",
      "Epoch 21/50\n",
      "468/468 [==============================] - 63s 134ms/step - loss: 0.0128 - acc: 0.9960 - val_loss: 0.0166 - val_acc: 0.9948\n",
      "Epoch 22/50\n",
      "468/468 [==============================] - 64s 137ms/step - loss: 0.0119 - acc: 0.9964 - val_loss: 0.0157 - val_acc: 0.9950\n",
      "Epoch 23/50\n",
      "468/468 [==============================] - 63s 135ms/step - loss: 0.0111 - acc: 0.9966 - val_loss: 0.0153 - val_acc: 0.9952\n",
      "Epoch 24/50\n",
      "468/468 [==============================] - 62s 133ms/step - loss: 0.0104 - acc: 0.9968 - val_loss: 0.0148 - val_acc: 0.9953\n",
      "Epoch 25/50\n",
      "468/468 [==============================] - 63s 134ms/step - loss: 0.0098 - acc: 0.9971 - val_loss: 0.0142 - val_acc: 0.9954\n",
      "Epoch 26/50\n",
      "468/468 [==============================] - 62s 133ms/step - loss: 0.0092 - acc: 0.9973 - val_loss: 0.0138 - val_acc: 0.9955\n",
      "Epoch 27/50\n",
      "468/468 [==============================] - 62s 133ms/step - loss: 0.0088 - acc: 0.9974 - val_loss: 0.0135 - val_acc: 0.9957\n",
      "Epoch 28/50\n",
      "468/468 [==============================] - 62s 132ms/step - loss: 0.0084 - acc: 0.9975 - val_loss: 0.0132 - val_acc: 0.9957\n",
      "Epoch 29/50\n",
      "468/468 [==============================] - 63s 134ms/step - loss: 0.0079 - acc: 0.9977 - val_loss: 0.0127 - val_acc: 0.9959\n",
      "Epoch 30/50\n",
      "468/468 [==============================] - 62s 133ms/step - loss: 0.0076 - acc: 0.9977 - val_loss: 0.0122 - val_acc: 0.9961\n",
      "Epoch 31/50\n",
      "468/468 [==============================] - 62s 133ms/step - loss: 0.0073 - acc: 0.9979 - val_loss: 0.0119 - val_acc: 0.9962\n",
      "Epoch 32/50\n",
      "468/468 [==============================] - 63s 134ms/step - loss: 0.0069 - acc: 0.9980 - val_loss: 0.0118 - val_acc: 0.9961\n",
      "Epoch 33/50\n",
      "468/468 [==============================] - 62s 133ms/step - loss: 0.0066 - acc: 0.9981 - val_loss: 0.0115 - val_acc: 0.9964\n",
      "Epoch 34/50\n",
      "468/468 [==============================] - 63s 134ms/step - loss: 0.0064 - acc: 0.9982 - val_loss: 0.0117 - val_acc: 0.9961\n",
      "Epoch 35/50\n",
      "468/468 [==============================] - 62s 133ms/step - loss: 0.0061 - acc: 0.9982 - val_loss: 0.0114 - val_acc: 0.9962\n",
      "Epoch 36/50\n",
      "468/468 [==============================] - 63s 134ms/step - loss: 0.0059 - acc: 0.9983 - val_loss: 0.0112 - val_acc: 0.9963\n",
      "Epoch 37/50\n",
      "468/468 [==============================] - 62s 133ms/step - loss: 0.0057 - acc: 0.9984 - val_loss: 0.0109 - val_acc: 0.9964\n",
      "Epoch 38/50\n",
      "468/468 [==============================] - 63s 134ms/step - loss: 0.0054 - acc: 0.9984 - val_loss: 0.0105 - val_acc: 0.9966\n",
      "Epoch 39/50\n",
      "468/468 [==============================] - 63s 134ms/step - loss: 0.0052 - acc: 0.9985 - val_loss: 0.0107 - val_acc: 0.9965\n",
      "Epoch 40/50\n",
      "468/468 [==============================] - 62s 133ms/step - loss: 0.0051 - acc: 0.9986 - val_loss: 0.0104 - val_acc: 0.9967\n",
      "Epoch 41/50\n",
      "468/468 [==============================] - 62s 133ms/step - loss: 0.0049 - acc: 0.9986 - val_loss: 0.0103 - val_acc: 0.9966\n",
      "Epoch 42/50\n",
      "468/468 [==============================] - 63s 134ms/step - loss: 0.0048 - acc: 0.9987 - val_loss: 0.0101 - val_acc: 0.9967\n",
      "Epoch 43/50\n",
      "468/468 [==============================] - 62s 133ms/step - loss: 0.0046 - acc: 0.9987 - val_loss: 0.0101 - val_acc: 0.9967\n",
      "Epoch 44/50\n",
      "468/468 [==============================] - 62s 133ms/step - loss: 0.0044 - acc: 0.9988 - val_loss: 0.0100 - val_acc: 0.9968\n",
      "Epoch 45/50\n",
      "468/468 [==============================] - 62s 133ms/step - loss: 0.0043 - acc: 0.9988 - val_loss: 0.0096 - val_acc: 0.9969\n",
      "Epoch 46/50\n",
      "468/468 [==============================] - 62s 133ms/step - loss: 0.0042 - acc: 0.9989 - val_loss: 0.0097 - val_acc: 0.9968\n",
      "Epoch 47/50\n",
      "468/468 [==============================] - 63s 134ms/step - loss: 0.0040 - acc: 0.9989 - val_loss: 0.0095 - val_acc: 0.9969\n",
      "Epoch 48/50\n",
      "468/468 [==============================] - 63s 134ms/step - loss: 0.0040 - acc: 0.9989 - val_loss: 0.0097 - val_acc: 0.9968\n",
      "Epoch 49/50\n",
      "468/468 [==============================] - 62s 133ms/step - loss: 0.0038 - acc: 0.9990 - val_loss: 0.0096 - val_acc: 0.9969\n",
      "Epoch 50/50\n",
      "468/468 [==============================] - 62s 133ms/step - loss: 0.0038 - acc: 0.9990 - val_loss: 0.0095 - val_acc: 0.9969\n"
     ]
    }
   ],
   "source": [
    "history=model_1.fit_generator(\n",
    "    train_generator,\n",
    "    epochs=50,\n",
    "    validation_data=val_generator,\n",
    "    validation_steps=117)  "
   ]
  },
  {
   "cell_type": "code",
   "execution_count": 9,
   "metadata": {},
   "outputs": [
    {
     "data": {
      "image/png": "[encoded data removed]",
      "text/plain": [
       "<Figure size 864x432 with 2 Axes>"
      ]
     },
     "metadata": {},
     "output_type": "display_data"
    }
   ],
   "source": [
    "def plot_loss_accuracy(history):\n",
    "    fig = plt.figure(figsize=(12, 6))\n",
    "    ax = fig.add_subplot(1, 2, 1)\n",
    "    ax.plot(history.history[\"loss\"],'r-x', label=\"Train Loss\")\n",
    "    ax.plot(history.history[\"val_loss\"],'b-x', label=\"Validation Loss\")\n",
    "    ax.legend()\n",
    "    ax.set_title('cross_entropy loss')\n",
    "    ax.grid(True)\n",
    "\n",
    "\n",
    "    ax = fig.add_subplot(1, 2, 2)\n",
    "    ax.plot(history.history[\"acc\"],'r-x', label=\"Train Accuracy\")\n",
    "    ax.plot(history.history[\"val_acc\"],'b-x', label=\"Validation Accuracy\")\n",
    "    ax.legend()\n",
    "    ax.set_title('accuracy')\n",
    "    ax.grid(True)\n",
    "    \n",
    "\n",
    "plot_loss_accuracy(history)"
   ]
  },
  {
   "cell_type": "code",
   "execution_count": 10,
   "metadata": {},
   "outputs": [
    {
     "data": {
      "text/plain": [
       "[0.011348437145352363, 0.995936918258667]"
      ]
     },
     "execution_count": 10,
     "metadata": {},
     "output_type": "execute_result"
    }
   ],
   "source": [
    "model_1.evaluate_generator(test_generator)"
   ]
  },
  {
   "cell_type": "code",
   "execution_count": 11,
   "metadata": {},
   "outputs": [],
   "source": [
    "custom_test_datagen=ImageDataGenerator()"
   ]
  },
  {
   "cell_type": "code",
   "execution_count": 12,
   "metadata": {},
   "outputs": [
    {
     "name": "stdout",
     "output_type": "stream",
     "text": [
      "Found 10 images belonging to 1 classes.\n"
     ]
    }
   ],
   "source": [
    "custom_test_generator = custom_test_datagen.flow_from_directory(\n",
    "        'C:/Users/aksha/Desktop/Artificial/customdata',\n",
    "        target_size=(32,32),\n",
    "        class_mode='categorical')"
   ]
  },
  {
   "cell_type": "code",
   "execution_count": 13,
   "metadata": {},
   "outputs": [
    {
     "data": {
      "text/plain": [
       "array([29, 39, 44, 22, 10, 31, 40, 27, 24, 20], dtype=int64)"
      ]
     },
     "execution_count": 13,
     "metadata": {},
     "output_type": "execute_result"
    }
   ],
   "source": [
    "np.argmax(model_1.predict_generator(custom_test_generator),axis=1)"
   ]
  },
  {
   "cell_type": "code",
   "execution_count": 14,
   "metadata": {},
   "outputs": [],
   "source": [
    "model_1.save(\"VGG model.h5\")"
   ]
  },
  {
   "cell_type": "code",
   "execution_count": 15,
   "metadata": {},
   "outputs": [],
   "source": [
    "model_1.save_weights(\"VGG weights.h5\")"
   ]
  }
 ],
 "metadata": {
  "kernelspec": {
   "display_name": "Python 3",
   "language": "python",
   "name": "python3"
  },
  "language_info": {
   "codemirror_mode": {
    "name": "ipython",
    "version": 3
   },
   "file_extension": ".py",
   "mimetype": "text/x-python",
   "name": "python",
   "nbconvert_exporter": "python",
   "pygments_lexer": "ipython3",
   "version": "3.5.5"
  }
 },
 "nbformat": 4,
 "nbformat_minor": 1
}
