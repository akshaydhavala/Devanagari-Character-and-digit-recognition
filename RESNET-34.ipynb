{
 "cells": [
  {
   "cell_type": "code",
   "execution_count": 1,
   "metadata": {},
   "outputs": [
    {
     "name": "stderr",
     "output_type": "stream",
     "text": [
      "d:\\anaconda\\envs\\tensorflow2\\lib\\site-packages\\h5py\\__init__.py:36: FutureWarning: Conversion of the second argument of issubdtype from `float` to `np.floating` is deprecated. In future, it will be treated as `np.float64 == np.dtype(float).type`.\n",
      "  from ._conv import register_converters as _register_converters\n",
      "Using TensorFlow backend.\n"
     ]
    }
   ],
   "source": [
    "from keras.models import Sequential\n",
    "from keras.layers import *\n",
    "from keras.optimizers import SGD\n",
    "from keras.preprocessing.image import ImageDataGenerator\n",
    "import matplotlib.pyplot as plt\n",
    "%matplotlib inline"
   ]
  },
  {
   "cell_type": "code",
   "execution_count": 2,
   "metadata": {},
   "outputs": [],
   "source": [
    "train_datagen = ImageDataGenerator()\n",
    "\n",
    "test_datagen = ImageDataGenerator()\n",
    " \n",
    "val_datagen=ImageDataGenerator()\n"
   ]
  },
  {
   "cell_type": "code",
   "execution_count": 3,
   "metadata": {},
   "outputs": [
    {
     "name": "stdout",
     "output_type": "stream",
     "text": [
      "Found 59800 images belonging to 46 classes.\n"
     ]
    }
   ],
   "source": [
    "train_generator = train_datagen.flow_from_directory(\n",
    "        'C:/Users/aksha/Desktop/Artificial/train',\n",
    "        target_size=(32,32),\n",
    "        batch_size=128,\n",
    "        class_mode='categorical')"
   ]
  },
  {
   "cell_type": "code",
   "execution_count": 4,
   "metadata": {},
   "outputs": [
    {
     "name": "stdout",
     "output_type": "stream",
     "text": [
      "Found 18400 images belonging to 46 classes.\n"
     ]
    }
   ],
   "source": [
    "test_generator = test_datagen.flow_from_directory(\n",
    "        'C:/Users/aksha/Desktop/Artificial/test',\n",
    "        target_size=(32,32),\n",
    "        batch_size=128,\n",
    "        class_mode='categorical')"
   ]
  },
  {
   "cell_type": "code",
   "execution_count": 5,
   "metadata": {},
   "outputs": [
    {
     "name": "stdout",
     "output_type": "stream",
     "text": [
      "Found 13800 images belonging to 46 classes.\n"
     ]
    }
   ],
   "source": [
    "val_generator = val_datagen.flow_from_directory(\n",
    "        'C:/Users/aksha/Desktop/Artificial/val',\n",
    "        target_size=(32,32),\n",
    "        batch_size=128,\n",
    "        class_mode='categorical')"
   ]
  },
  {
   "cell_type": "code",
   "execution_count": 6,
   "metadata": {},
   "outputs": [
    {
     "name": "stdout",
     "output_type": "stream",
     "text": [
      "_________________________________________________________________\n",
      "Layer (type)                 Output Shape              Param #   \n",
      "=================================================================\n",
      "conv2d_1 (Conv2D)            (None, 32, 32, 64)        1792      \n",
      "_________________________________________________________________\n",
      "batch_normalization_1 (Batch (None, 32, 32, 64)        256       \n",
      "_________________________________________________________________\n",
      "conv2d_2 (Conv2D)            (None, 32, 32, 64)        36928     \n",
      "_________________________________________________________________\n",
      "batch_normalization_2 (Batch (None, 32, 32, 64)        256       \n",
      "_________________________________________________________________\n",
      "conv2d_3 (Conv2D)            (None, 32, 32, 64)        36928     \n",
      "_________________________________________________________________\n",
      "batch_normalization_3 (Batch (None, 32, 32, 64)        256       \n",
      "_________________________________________________________________\n",
      "conv2d_4 (Conv2D)            (None, 32, 32, 64)        36928     \n",
      "_________________________________________________________________\n",
      "batch_normalization_4 (Batch (None, 32, 32, 64)        256       \n",
      "_________________________________________________________________\n",
      "conv2d_5 (Conv2D)            (None, 32, 32, 64)        36928     \n",
      "_________________________________________________________________\n",
      "batch_normalization_5 (Batch (None, 32, 32, 64)        256       \n",
      "_________________________________________________________________\n",
      "conv2d_6 (Conv2D)            (None, 32, 32, 64)        36928     \n",
      "_________________________________________________________________\n",
      "batch_normalization_6 (Batch (None, 32, 32, 64)        256       \n",
      "_________________________________________________________________\n",
      "conv2d_7 (Conv2D)            (None, 32, 32, 64)        36928     \n",
      "_________________________________________________________________\n",
      "batch_normalization_7 (Batch (None, 32, 32, 64)        256       \n",
      "_________________________________________________________________\n",
      "conv2d_8 (Conv2D)            (None, 16, 16, 128)       73856     \n",
      "_________________________________________________________________\n",
      "batch_normalization_8 (Batch (None, 16, 16, 128)       512       \n",
      "_________________________________________________________________\n",
      "conv2d_9 (Conv2D)            (None, 16, 16, 128)       147584    \n",
      "_________________________________________________________________\n",
      "batch_normalization_9 (Batch (None, 16, 16, 128)       512       \n",
      "_________________________________________________________________\n",
      "conv2d_10 (Conv2D)           (None, 16, 16, 128)       147584    \n",
      "_________________________________________________________________\n",
      "batch_normalization_10 (Batc (None, 16, 16, 128)       512       \n",
      "_________________________________________________________________\n",
      "conv2d_11 (Conv2D)           (None, 16, 16, 128)       147584    \n",
      "_________________________________________________________________\n",
      "batch_normalization_11 (Batc (None, 16, 16, 128)       512       \n",
      "_________________________________________________________________\n",
      "conv2d_12 (Conv2D)           (None, 16, 16, 128)       147584    \n",
      "_________________________________________________________________\n",
      "batch_normalization_12 (Batc (None, 16, 16, 128)       512       \n",
      "_________________________________________________________________\n",
      "conv2d_13 (Conv2D)           (None, 16, 16, 128)       147584    \n",
      "_________________________________________________________________\n",
      "batch_normalization_13 (Batc (None, 16, 16, 128)       512       \n",
      "_________________________________________________________________\n",
      "conv2d_14 (Conv2D)           (None, 16, 16, 128)       147584    \n",
      "_________________________________________________________________\n",
      "batch_normalization_14 (Batc (None, 16, 16, 128)       512       \n",
      "_________________________________________________________________\n",
      "conv2d_15 (Conv2D)           (None, 16, 16, 128)       147584    \n",
      "_________________________________________________________________\n",
      "batch_normalization_15 (Batc (None, 16, 16, 128)       512       \n",
      "_________________________________________________________________\n",
      "conv2d_16 (Conv2D)           (None, 8, 8, 256)         295168    \n",
      "_________________________________________________________________\n",
      "batch_normalization_16 (Batc (None, 8, 8, 256)         1024      \n",
      "_________________________________________________________________\n",
      "conv2d_17 (Conv2D)           (None, 8, 8, 256)         590080    \n",
      "_________________________________________________________________\n",
      "batch_normalization_17 (Batc (None, 8, 8, 256)         1024      \n",
      "_________________________________________________________________\n",
      "conv2d_18 (Conv2D)           (None, 8, 8, 256)         590080    \n",
      "_________________________________________________________________\n",
      "batch_normalization_18 (Batc (None, 8, 8, 256)         1024      \n",
      "_________________________________________________________________\n",
      "conv2d_19 (Conv2D)           (None, 8, 8, 256)         590080    \n",
      "_________________________________________________________________\n",
      "batch_normalization_19 (Batc (None, 8, 8, 256)         1024      \n",
      "_________________________________________________________________\n",
      "conv2d_20 (Conv2D)           (None, 8, 8, 256)         590080    \n",
      "_________________________________________________________________\n",
      "batch_normalization_20 (Batc (None, 8, 8, 256)         1024      \n",
      "_________________________________________________________________\n",
      "conv2d_21 (Conv2D)           (None, 8, 8, 256)         590080    \n",
      "_________________________________________________________________\n",
      "batch_normalization_21 (Batc (None, 8, 8, 256)         1024      \n",
      "_________________________________________________________________\n",
      "conv2d_22 (Conv2D)           (None, 8, 8, 256)         590080    \n",
      "_________________________________________________________________\n",
      "batch_normalization_22 (Batc (None, 8, 8, 256)         1024      \n",
      "_________________________________________________________________\n",
      "conv2d_23 (Conv2D)           (None, 8, 8, 256)         590080    \n",
      "_________________________________________________________________\n",
      "batch_normalization_23 (Batc (None, 8, 8, 256)         1024      \n",
      "_________________________________________________________________\n",
      "conv2d_24 (Conv2D)           (None, 8, 8, 256)         590080    \n",
      "_________________________________________________________________\n",
      "batch_normalization_24 (Batc (None, 8, 8, 256)         1024      \n",
      "_________________________________________________________________\n",
      "conv2d_25 (Conv2D)           (None, 8, 8, 256)         590080    \n",
      "_________________________________________________________________\n",
      "batch_normalization_25 (Batc (None, 8, 8, 256)         1024      \n",
      "_________________________________________________________________\n",
      "conv2d_26 (Conv2D)           (None, 8, 8, 256)         590080    \n",
      "_________________________________________________________________\n",
      "batch_normalization_26 (Batc (None, 8, 8, 256)         1024      \n",
      "_________________________________________________________________\n",
      "conv2d_27 (Conv2D)           (None, 8, 8, 256)         590080    \n",
      "_________________________________________________________________\n",
      "batch_normalization_27 (Batc (None, 8, 8, 256)         1024      \n",
      "_________________________________________________________________\n",
      "conv2d_28 (Conv2D)           (None, 4, 4, 512)         1180160   \n",
      "_________________________________________________________________\n",
      "batch_normalization_28 (Batc (None, 4, 4, 512)         2048      \n",
      "_________________________________________________________________\n",
      "conv2d_29 (Conv2D)           (None, 4, 4, 512)         2359808   \n",
      "_________________________________________________________________\n",
      "batch_normalization_29 (Batc (None, 4, 4, 512)         2048      \n",
      "_________________________________________________________________\n",
      "conv2d_30 (Conv2D)           (None, 4, 4, 512)         2359808   \n",
      "_________________________________________________________________\n",
      "batch_normalization_30 (Batc (None, 4, 4, 512)         2048      \n",
      "_________________________________________________________________\n",
      "conv2d_31 (Conv2D)           (None, 4, 4, 512)         2359808   \n",
      "_________________________________________________________________\n",
      "batch_normalization_31 (Batc (None, 4, 4, 512)         2048      \n",
      "_________________________________________________________________\n",
      "conv2d_32 (Conv2D)           (None, 4, 4, 512)         2359808   \n",
      "_________________________________________________________________\n",
      "batch_normalization_32 (Batc (None, 4, 4, 512)         2048      \n",
      "_________________________________________________________________\n",
      "conv2d_33 (Conv2D)           (None, 4, 4, 512)         2359808   \n",
      "_________________________________________________________________\n",
      "batch_normalization_33 (Batc (None, 4, 4, 512)         2048      \n",
      "_________________________________________________________________\n",
      "average_pooling2d_1 (Average (None, 2, 2, 512)         0         \n",
      "_________________________________________________________________\n",
      "flatten_1 (Flatten)          (None, 2048)              0         \n",
      "_________________________________________________________________\n",
      "dense_1 (Dense)              (None, 46)                94254     \n",
      "=================================================================\n",
      "Total params: 21,220,270\n",
      "Trainable params: 21,205,038\n",
      "Non-trainable params: 15,232\n",
      "_________________________________________________________________\n"
     ]
    }
   ],
   "source": [
    "model_1=Sequential()\n",
    "model_1.add(Conv2D(64,(3,3), strides=(1, 1), padding='same', input_shape=(32,32,3),activation='relu'))\n",
    "model_1.add(BatchNormalization())\n",
    "model_1.add(Conv2D(64,(3,3), strides=(1, 1), padding='same',activation='relu'))\n",
    "model_1.add(BatchNormalization())\n",
    "model_1.add(Conv2D(64,(3,3), strides=(1, 1), padding='same',activation='relu'))\n",
    "model_1.add(BatchNormalization())\n",
    "model_1.add(Conv2D(64,(3,3), strides=(1, 1), padding='same',activation='relu'))\n",
    "model_1.add(BatchNormalization())\n",
    "model_1.add(Conv2D(64,(3,3), strides=(1, 1), padding='same',activation='relu'))\n",
    "model_1.add(BatchNormalization())\n",
    "model_1.add(Conv2D(64,(3,3), strides=(1, 1), padding='same',activation='relu'))\n",
    "model_1.add(BatchNormalization())\n",
    "model_1.add(Conv2D(64,(3,3), strides=(1, 1), padding='same',activation='relu'))\n",
    "model_1.add(BatchNormalization())\n",
    "\n",
    "model_1.add(Conv2D(128,(3,3), strides=(2, 2), padding='same',activation='relu'))\n",
    "model_1.add(BatchNormalization())\n",
    "model_1.add(Conv2D(128,(3,3), strides=(1, 1), padding='same',activation='relu'))\n",
    "model_1.add(BatchNormalization())\n",
    "model_1.add(Conv2D(128,(3,3), strides=(1, 1), padding='same',activation='relu'))\n",
    "model_1.add(BatchNormalization())\n",
    "model_1.add(Conv2D(128,(3,3), strides=(1, 1), padding='same',activation='relu'))\n",
    "model_1.add(BatchNormalization())\n",
    "model_1.add(Conv2D(128,(3,3), strides=(1, 1), padding='same',activation='relu'))\n",
    "model_1.add(BatchNormalization())\n",
    "model_1.add(Conv2D(128,(3,3), strides=(1, 1), padding='same',activation='relu'))\n",
    "model_1.add(BatchNormalization())\n",
    "model_1.add(Conv2D(128,(3,3), strides=(1, 1), padding='same',activation='relu'))\n",
    "model_1.add(BatchNormalization())\n",
    "model_1.add(Conv2D(128,(3,3), strides=(1, 1), padding='same',activation='relu'))\n",
    "model_1.add(BatchNormalization())\n",
    "\n",
    "model_1.add(Conv2D(256,(3,3), strides=(2, 2), padding='same',activation='relu'))\n",
    "model_1.add(BatchNormalization())\n",
    "model_1.add(Conv2D(256,(3,3), strides=(1, 1), padding='same',activation='relu'))\n",
    "model_1.add(BatchNormalization())\n",
    "model_1.add(Conv2D(256,(3,3), strides=(1, 1), padding='same',activation='relu'))\n",
    "model_1.add(BatchNormalization())\n",
    "model_1.add(Conv2D(256,(3,3), strides=(1, 1), padding='same',activation='relu'))\n",
    "model_1.add(BatchNormalization())\n",
    "model_1.add(Conv2D(256,(3,3), strides=(1, 1), padding='same',activation='relu'))\n",
    "model_1.add(BatchNormalization())\n",
    "model_1.add(Conv2D(256,(3,3), strides=(1, 1), padding='same',activation='relu'))\n",
    "model_1.add(BatchNormalization())\n",
    "model_1.add(Conv2D(256,(3,3), strides=(1, 1), padding='same',activation='relu'))\n",
    "model_1.add(BatchNormalization())\n",
    "model_1.add(Conv2D(256,(3,3), strides=(1, 1), padding='same',activation='relu'))\n",
    "model_1.add(BatchNormalization())\n",
    "model_1.add(Conv2D(256,(3,3), strides=(1, 1), padding='same',activation='relu'))\n",
    "model_1.add(BatchNormalization())\n",
    "model_1.add(Conv2D(256,(3,3), strides=(1, 1), padding='same',activation='relu'))\n",
    "model_1.add(BatchNormalization())\n",
    "model_1.add(Conv2D(256,(3,3), strides=(1, 1), padding='same',activation='relu'))\n",
    "model_1.add(BatchNormalization())\n",
    "model_1.add(Conv2D(256,(3,3), strides=(1, 1), padding='same',activation='relu'))\n",
    "model_1.add(BatchNormalization())\n",
    "\n",
    "model_1.add(Conv2D(512,(3,3), strides=(2,2), padding='same',activation='relu'))\n",
    "model_1.add(BatchNormalization())\n",
    "model_1.add(Conv2D(512,(3,3), strides=(1, 1), padding='same',activation='relu'))\n",
    "model_1.add(BatchNormalization())\n",
    "model_1.add(Conv2D(512,(3,3), strides=(1, 1), padding='same',activation='relu'))\n",
    "model_1.add(BatchNormalization())\n",
    "model_1.add(Conv2D(512,(3,3), strides=(1, 1), padding='same',activation='relu'))\n",
    "model_1.add(BatchNormalization())\n",
    "model_1.add(Conv2D(512,(3,3), strides=(1, 1), padding='same',activation='relu'))\n",
    "model_1.add(BatchNormalization())\n",
    "model_1.add(Conv2D(512,(3,3), strides=(1, 1), padding='same',activation='relu'))\n",
    "model_1.add(BatchNormalization())\n",
    "model_1.add(AveragePooling2D(pool_size=(2, 2)))\n",
    "model_1.add(Flatten())\n",
    "model_1.add(Dense(46,activation='softmax'))\n",
    "model_1.summary()"
   ]
  },
  {
   "cell_type": "code",
   "execution_count": 7,
   "metadata": {},
   "outputs": [],
   "source": [
    "model_1.compile(loss='binary_crossentropy',\n",
    "              optimizer=SGD(lr=1e-3, momentum=0.9),\n",
    "              metrics=['accuracy'])"
   ]
  },
  {
   "cell_type": "code",
   "execution_count": 8,
   "metadata": {},
   "outputs": [
    {
     "name": "stdout",
     "output_type": "stream",
     "text": [
      "Epoch 1/50\n",
      "468/468 [==============================] - 233s 497ms/step - loss: 0.1093 - acc: 0.9782 - val_loss: 0.2069 - val_acc: 0.9686\n",
      "Epoch 2/50\n",
      "468/468 [==============================] - 223s 476ms/step - loss: 0.1053 - acc: 0.9783 - val_loss: 0.1183 - val_acc: 0.9762\n",
      "Epoch 3/50\n",
      "468/468 [==============================] - 224s 478ms/step - loss: 0.1013 - acc: 0.9783 - val_loss: 0.0998 - val_acc: 0.9783\n",
      "Epoch 4/50\n",
      "468/468 [==============================] - 224s 478ms/step - loss: 0.0974 - acc: 0.9783 - val_loss: 0.1135 - val_acc: 0.9769\n",
      "Epoch 5/50\n",
      "468/468 [==============================] - 224s 478ms/step - loss: 0.0932 - acc: 0.9784 - val_loss: 0.0924 - val_acc: 0.9784\n",
      "Epoch 6/50\n",
      "468/468 [==============================] - 224s 478ms/step - loss: 0.0877 - acc: 0.9785 - val_loss: 0.0882 - val_acc: 0.9784\n",
      "Epoch 7/50\n",
      "468/468 [==============================] - 224s 478ms/step - loss: 0.0786 - acc: 0.9788 - val_loss: 0.0768 - val_acc: 0.9788\n",
      "Epoch 8/50\n",
      "468/468 [==============================] - 224s 478ms/step - loss: 0.0667 - acc: 0.9803 - val_loss: 0.0665 - val_acc: 0.9803\n",
      "Epoch 9/50\n",
      "468/468 [==============================] - 224s 478ms/step - loss: 0.0540 - acc: 0.9827 - val_loss: 0.0544 - val_acc: 0.9824\n",
      "Epoch 10/50\n",
      "468/468 [==============================] - 223s 476ms/step - loss: 0.0427 - acc: 0.9855 - val_loss: 0.0453 - val_acc: 0.9845\n",
      "Epoch 11/50\n",
      "468/468 [==============================] - 223s 478ms/step - loss: 0.0341 - acc: 0.9884 - val_loss: 0.0395 - val_acc: 0.9864\n",
      "Epoch 12/50\n",
      "468/468 [==============================] - 223s 477ms/step - loss: 0.0276 - acc: 0.9907 - val_loss: 0.0347 - val_acc: 0.9879\n",
      "Epoch 13/50\n",
      "468/468 [==============================] - 223s 477ms/step - loss: 0.0228 - acc: 0.9925 - val_loss: 0.0321 - val_acc: 0.9888\n",
      "Epoch 14/50\n",
      "468/468 [==============================] - 224s 478ms/step - loss: 0.0192 - acc: 0.9938 - val_loss: 0.0298 - val_acc: 0.9895\n",
      "Epoch 15/50\n",
      "468/468 [==============================] - 224s 478ms/step - loss: 0.0163 - acc: 0.9950 - val_loss: 0.0284 - val_acc: 0.9901\n",
      "Epoch 16/50\n",
      "468/468 [==============================] - 223s 477ms/step - loss: 0.0139 - acc: 0.9959 - val_loss: 0.0270 - val_acc: 0.9905\n",
      "Epoch 17/50\n",
      "468/468 [==============================] - 224s 478ms/step - loss: 0.0120 - acc: 0.9966 - val_loss: 0.0258 - val_acc: 0.9909\n",
      "Epoch 18/50\n",
      "468/468 [==============================] - 224s 478ms/step - loss: 0.0105 - acc: 0.9972 - val_loss: 0.0248 - val_acc: 0.9913\n",
      "Epoch 19/50\n",
      "468/468 [==============================] - 224s 478ms/step - loss: 0.0091 - acc: 0.9977 - val_loss: 0.0239 - val_acc: 0.9917\n",
      "Epoch 20/50\n",
      "468/468 [==============================] - 224s 478ms/step - loss: 0.0081 - acc: 0.9980 - val_loss: 0.0237 - val_acc: 0.9917\n",
      "Epoch 21/50\n",
      "468/468 [==============================] - 224s 478ms/step - loss: 0.0071 - acc: 0.9984 - val_loss: 0.0233 - val_acc: 0.9919\n",
      "Epoch 22/50\n",
      "468/468 [==============================] - 224s 478ms/step - loss: 0.0063 - acc: 0.9987 - val_loss: 0.0228 - val_acc: 0.9921\n",
      "Epoch 23/50\n",
      "468/468 [==============================] - 223s 477ms/step - loss: 0.0056 - acc: 0.9989 - val_loss: 0.0223 - val_acc: 0.9922\n",
      "Epoch 24/50\n",
      "468/468 [==============================] - 223s 477ms/step - loss: 0.0050 - acc: 0.9991 - val_loss: 0.0220 - val_acc: 0.9923\n",
      "Epoch 25/50\n",
      "468/468 [==============================] - 224s 478ms/step - loss: 0.0044 - acc: 0.9992 - val_loss: 0.0217 - val_acc: 0.9926\n",
      "Epoch 26/50\n",
      "468/468 [==============================] - 224s 478ms/step - loss: 0.0040 - acc: 0.9994 - val_loss: 0.0215 - val_acc: 0.9926\n",
      "Epoch 27/50\n",
      "468/468 [==============================] - 224s 478ms/step - loss: 0.0037 - acc: 0.9994 - val_loss: 0.0213 - val_acc: 0.9926\n",
      "Epoch 28/50\n",
      "468/468 [==============================] - 224s 478ms/step - loss: 0.0033 - acc: 0.9995 - val_loss: 0.0211 - val_acc: 0.9928\n",
      "Epoch 29/50\n",
      "468/468 [==============================] - 224s 478ms/step - loss: 0.0030 - acc: 0.9996 - val_loss: 0.0213 - val_acc: 0.9927\n",
      "Epoch 30/50\n",
      "468/468 [==============================] - 224s 478ms/step - loss: 0.0027 - acc: 0.9997 - val_loss: 0.0209 - val_acc: 0.9928\n",
      "Epoch 31/50\n",
      "468/468 [==============================] - 224s 478ms/step - loss: 0.0025 - acc: 0.9997 - val_loss: 0.0207 - val_acc: 0.9929\n",
      "Epoch 32/50\n",
      "468/468 [==============================] - 223s 478ms/step - loss: 0.0022 - acc: 0.9998 - val_loss: 0.0205 - val_acc: 0.9929\n",
      "Epoch 33/50\n",
      "468/468 [==============================] - 223s 477ms/step - loss: 0.0022 - acc: 0.9998 - val_loss: 0.0204 - val_acc: 0.9930\n",
      "Epoch 34/50\n",
      "468/468 [==============================] - 223s 476ms/step - loss: 0.0020 - acc: 0.9998 - val_loss: 0.0204 - val_acc: 0.9929\n",
      "Epoch 35/50\n",
      "468/468 [==============================] - 223s 477ms/step - loss: 0.0018 - acc: 0.9998 - val_loss: 0.0204 - val_acc: 0.9930\n",
      "Epoch 36/50\n",
      "468/468 [==============================] - 223s 476ms/step - loss: 0.0017 - acc: 0.9999 - val_loss: 0.0205 - val_acc: 0.9930\n",
      "Epoch 37/50\n",
      "468/468 [==============================] - 223s 476ms/step - loss: 0.0016 - acc: 0.9999 - val_loss: 0.0201 - val_acc: 0.9931\n",
      "Epoch 38/50\n",
      "468/468 [==============================] - 223s 476ms/step - loss: 0.0014 - acc: 0.9999 - val_loss: 0.0201 - val_acc: 0.9931\n",
      "Epoch 39/50\n",
      "468/468 [==============================] - 223s 476ms/step - loss: 0.0014 - acc: 0.9999 - val_loss: 0.0203 - val_acc: 0.9931\n",
      "Epoch 40/50\n",
      "468/468 [==============================] - 223s 477ms/step - loss: 0.0013 - acc: 0.9999 - val_loss: 0.0200 - val_acc: 0.9932\n",
      "Epoch 41/50\n",
      "468/468 [==============================] - 223s 477ms/step - loss: 0.0012 - acc: 0.9999 - val_loss: 0.0200 - val_acc: 0.9932\n",
      "Epoch 42/50\n",
      "468/468 [==============================] - 223s 477ms/step - loss: 0.0011 - acc: 0.9999 - val_loss: 0.0200 - val_acc: 0.9932\n",
      "Epoch 43/50\n",
      "468/468 [==============================] - 223s 476ms/step - loss: 0.0011 - acc: 1.0000 - val_loss: 0.0200 - val_acc: 0.9932\n",
      "Epoch 44/50\n",
      "468/468 [==============================] - 223s 476ms/step - loss: 0.0010 - acc: 1.0000 - val_loss: 0.0199 - val_acc: 0.9933\n",
      "Epoch 45/50\n",
      "468/468 [==============================] - 223s 476ms/step - loss: 9.7153e-04 - acc: 1.0000 - val_loss: 0.0200 - val_acc: 0.9933\n",
      "Epoch 46/50\n",
      "468/468 [==============================] - 223s 477ms/step - loss: 8.9506e-04 - acc: 1.0000 - val_loss: 0.0199 - val_acc: 0.9933\n",
      "Epoch 47/50\n",
      "468/468 [==============================] - 223s 476ms/step - loss: 8.7073e-04 - acc: 1.0000 - val_loss: 0.0199 - val_acc: 0.9933\n",
      "Epoch 48/50\n",
      "468/468 [==============================] - 223s 476ms/step - loss: 8.5972e-04 - acc: 1.0000 - val_loss: 0.0198 - val_acc: 0.9934\n",
      "Epoch 49/50\n",
      "468/468 [==============================] - 223s 477ms/step - loss: 8.1071e-04 - acc: 1.0000 - val_loss: 0.0199 - val_acc: 0.9933\n",
      "Epoch 50/50\n",
      "468/468 [==============================] - 223s 477ms/step - loss: 7.7018e-04 - acc: 1.0000 - val_loss: 0.0197 - val_acc: 0.9934\n"
     ]
    }
   ],
   "source": [
    "history=model_1.fit_generator(\n",
    "    train_generator,\n",
    "    epochs=50,\n",
    "    validation_data=val_generator,\n",
    "    validation_steps=107)  "
   ]
  },
  {
   "cell_type": "code",
   "execution_count": 9,
   "metadata": {},
   "outputs": [
    {
     "data": {
      "image/png": "[encoded data removed]",
      "text/plain": [
       "<Figure size 864x432 with 2 Axes>"
      ]
     },
     "metadata": {},
     "output_type": "display_data"
    }
   ],
   "source": [
    "def plot_loss_accuracy(history):\n",
    "    fig = plt.figure(figsize=(12, 6))\n",
    "    ax = fig.add_subplot(1, 2, 1)\n",
    "    ax.plot(history.history[\"loss\"],'r-x', label=\"Train Loss\")\n",
    "    ax.plot(history.history[\"val_loss\"],'b-x', label=\"Validation Loss\")\n",
    "    ax.legend()\n",
    "    ax.set_title('cross_entropy loss')\n",
    "    ax.grid(True)\n",
    "\n",
    "\n",
    "    ax = fig.add_subplot(1, 2, 2)\n",
    "    ax.plot(history.history[\"acc\"],'r-x', label=\"Train Accuracy\")\n",
    "    ax.plot(history.history[\"val_acc\"],'b-x', label=\"Validation Accuracy\")\n",
    "    ax.legend()\n",
    "    ax.set_title('accuracy')\n",
    "    ax.grid(True)\n",
    "    \n",
    "\n",
    "plot_loss_accuracy(history)"
   ]
  },
  {
   "cell_type": "code",
   "execution_count": 10,
   "metadata": {},
   "outputs": [
    {
     "data": {
      "text/plain": [
       "[0.022290473492897075, 0.9922235468159551]"
      ]
     },
     "execution_count": 10,
     "metadata": {},
     "output_type": "execute_result"
    }
   ],
   "source": [
    "model_1.evaluate_generator(test_generator)"
   ]
  },
  {
   "cell_type": "code",
   "execution_count": 11,
   "metadata": {},
   "outputs": [],
   "source": [
    "custom_test_datagen=ImageDataGenerator()"
   ]
  },
  {
   "cell_type": "code",
   "execution_count": 12,
   "metadata": {},
   "outputs": [
    {
     "name": "stdout",
     "output_type": "stream",
     "text": [
      "Found 10 images belonging to 1 classes.\n"
     ]
    }
   ],
   "source": [
    "custom_test_generator = custom_test_datagen.flow_from_directory(\n",
    "        'C:/Users/aksha/Desktop/Artificial/customdata',\n",
    "        target_size=(32,32),\n",
    "        class_mode='categorical')"
   ]
  },
  {
   "cell_type": "code",
   "execution_count": 13,
   "metadata": {},
   "outputs": [
    {
     "data": {
      "text/plain": [
       "array([10, 20, 22, 29,  6, 24, 27, 39, 25, 44], dtype=int64)"
      ]
     },
     "execution_count": 13,
     "metadata": {},
     "output_type": "execute_result"
    }
   ],
   "source": [
    "np.argmax(model_1.predict_generator(custom_test_generator),axis=1)"
   ]
  },
  {
   "cell_type": "code",
   "execution_count": 14,
   "metadata": {},
   "outputs": [],
   "source": [
    "model_1.save(\"Resnet Model.h5\")"
   ]
  },
  {
   "cell_type": "code",
   "execution_count": 15,
   "metadata": {},
   "outputs": [],
   "source": [
    "model_1.save_weights(\"Resnet Weights.h5\")"
   ]
  },
  {
   "cell_type": "code",
   "execution_count": null,
   "metadata": {},
   "outputs": [],
   "source": []
  }
 ],
 "metadata": {
  "kernelspec": {
   "display_name": "Python 3",
   "language": "python",
   "name": "python3"
  },
  "language_info": {
   "codemirror_mode": {
    "name": "ipython",
    "version": 3
   },
   "file_extension": ".py",
   "mimetype": "text/x-python",
   "name": "python",
   "nbconvert_exporter": "python",
   "pygments_lexer": "ipython3",
   "version": "3.5.5"
  }
 },
 "nbformat": 4,
 "nbformat_minor": 1
}
